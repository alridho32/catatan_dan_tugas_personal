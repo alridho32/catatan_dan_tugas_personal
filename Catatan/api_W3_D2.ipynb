{
 "cells": [
  {
   "cell_type": "markdown",
   "metadata": {},
   "source": [
    "# REST API\n",
    "\n",
    "  -- GET = Untuk mengambil data dari server\n",
    "\n",
    "  -- PUT = Untuk update data \n",
    "\n",
    "  -- POST = Untuk membuat record\n",
    "\n",
    "  -- DELETE = Untuk delete record\n",
    "\n",
    "Request dari client ke server harus memiliki HTTP (GET, PUT, POST, atau DELETE) dan URL (alamat dari data yang kita request)\n",
    "\n",
    "Server kemudian akan membalikan data berupa JSON (Berisi data-data yang client dapat pahami dengan bahasa yang digunakan saat itu) bentuk JSON mirip seperti dictionary dalam kasus ini dalam bahasa python."
   ]
  },
  {
   "cell_type": "markdown",
   "metadata": {},
   "source": [
    "# HTTP response status code\n",
    "\n",
    "-- Informational responses (100 - 199)\n",
    "\n",
    "-- Sucessful responses (200 - 299)\n",
    "\n",
    "-- Redirection responses (300 - 399)\n",
    "\n",
    "-- Client eror responses (400 - 499)\n",
    "\n",
    "-- Server eror responses (500 - 599)"
   ]
  },
  {
   "cell_type": "markdown",
   "metadata": {},
   "source": [
    "# JSON\n",
    "Sebuah tipe data yang bisa diterima oleh berbagai macam system, merupakan bahasa universal.\n",
    "\n",
    "Untuk python JSON = Dictionary\n",
    "\n",
    "Jika ingin di save ke file formatnya harus .json"
   ]
  },
  {
   "cell_type": "markdown",
   "metadata": {},
   "source": [
    "# Swagger UI\n",
    "\n",
    "Saat menjalankan server tulis /docs di url atas untuk mengakses Swagger UI"
   ]
  }
 ],
 "metadata": {
  "kernelspec": {
   "display_name": "data_science",
   "language": "python",
   "name": "python3"
  },
  "language_info": {
   "name": "python",
   "version": "3.9.19"
  }
 },
 "nbformat": 4,
 "nbformat_minor": 2
}
