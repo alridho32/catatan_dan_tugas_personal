{
 "cells": [
  {
   "cell_type": "code",
   "execution_count": null,
   "metadata": {},
   "outputs": [],
   "source": [
    "pip install bs4 selenium"
   ]
  },
  {
   "cell_type": "markdown",
   "metadata": {},
   "source": [
    "Import BeautifulSoup dan webdriver"
   ]
  },
  {
   "cell_type": "code",
   "execution_count": 2,
   "metadata": {},
   "outputs": [],
   "source": [
    "from bs4 import BeautifulSoup\n",
    "from selenium import webdriver"
   ]
  },
  {
   "cell_type": "code",
   "execution_count": 7,
   "metadata": {},
   "outputs": [],
   "source": [
    "driver = webdriver.Chrome()\n",
    "driver.get('https://www.gramedia.com/categories/buku')\n",
    "html = driver.page_source"
   ]
  },
  {
   "cell_type": "code",
   "execution_count": 8,
   "metadata": {},
   "outputs": [
    {
     "data": {
      "text/plain": [
       "str"
      ]
     },
     "execution_count": 8,
     "metadata": {},
     "output_type": "execute_result"
    }
   ],
   "source": [
    "type(html)"
   ]
  },
  {
   "cell_type": "code",
   "execution_count": 5,
   "metadata": {},
   "outputs": [],
   "source": [
    "driver.close()"
   ]
  },
  {
   "cell_type": "code",
   "execution_count": 4,
   "metadata": {},
   "outputs": [],
   "source": [
    "from bs4 import BeautifulSoup\n",
    "from selenium import webdriver\n",
    "import time\n",
    "\n",
    "driver = webdriver.Chrome()\n",
    "driver.get('https://www.gramedia.com/categories/buku')\n",
    "html = driver.page_source\n"
   ]
  },
  {
   "cell_type": "code",
   "execution_count": 10,
   "metadata": {},
   "outputs": [],
   "source": [
    "driver.close()"
   ]
  },
  {
   "cell_type": "code",
   "execution_count": null,
   "metadata": {},
   "outputs": [],
   "source": [
    "pip install requests"
   ]
  },
  {
   "cell_type": "code",
   "execution_count": null,
   "metadata": {},
   "outputs": [],
   "source": [
    "import requests\n",
    "page = requests.get(\"https://www.gramedia.com/categories/buku\")\n",
    "page"
   ]
  },
  {
   "cell_type": "code",
   "execution_count": 11,
   "metadata": {},
   "outputs": [],
   "source": [
    "from selenium import webdriver\n",
    "from bs4 import BeautifulSoup\n",
    "import time\n",
    "\n",
    "# Inisialisasi WebDriver (contoh menggunakan Chrome)\n",
    "driver = webdriver.Chrome()  # Pastikan kamu sudah mengunduh ChromeDriver\n",
    "url = 'https://www.gramedia.com/categories/buku'\n",
    "driver.get(url)\n",
    "\n",
    "# Tunggu beberapa detik agar halaman bisa selesai dimuat\n",
    "time.sleep(3)  # Atur sesuai dengan waktu yang dibutuhkan untuk halaman selesai dimuat\n",
    "\n",
    "# Ambil konten halaman setelah dirender oleh JavaScript\n",
    "html = driver.page_source\n",
    "\n",
    "# Parse dengan BeautifulSoup\n",
    "soup = BeautifulSoup(html, 'html.parser')\n",
    "\n",
    "# # Tutup browser\n",
    "# #driver.quit()\n"
   ]
  },
  {
   "cell_type": "code",
   "execution_count": 12,
   "metadata": {},
   "outputs": [
    {
     "data": {
      "text/plain": [
       "bs4.BeautifulSoup"
      ]
     },
     "execution_count": 12,
     "metadata": {},
     "output_type": "execute_result"
    }
   ],
   "source": [
    "type(soup)"
   ]
  },
  {
   "cell_type": "code",
   "execution_count": 13,
   "metadata": {},
   "outputs": [],
   "source": [
    "test = soup.find('h2',class_='line-clamp-2 text-xs-medium text-neutral-700')"
   ]
  },
  {
   "cell_type": "code",
   "execution_count": 15,
   "metadata": {},
   "outputs": [
    {
     "data": {
      "text/plain": [
       "'Yaasiin, Tahlil, Perawatan Jenazah, Takziyah, & Ziarah Kubur'"
      ]
     },
     "execution_count": 15,
     "metadata": {},
     "output_type": "execute_result"
    }
   ],
   "source": [
    "test.get_text()"
   ]
  },
  {
   "cell_type": "code",
   "execution_count": 9,
   "metadata": {},
   "outputs": [],
   "source": [
    "full_text = test.get_text()"
   ]
  },
  {
   "cell_type": "code",
   "execution_count": null,
   "metadata": {},
   "outputs": [],
   "source": [
    "full_text"
   ]
  },
  {
   "cell_type": "code",
   "execution_count": 16,
   "metadata": {},
   "outputs": [],
   "source": [
    "title = []\n",
    "title += [ title.get_text() for title in soup.find_all( 'h2', {\"class\":\"line-clamp-2 text-xs-medium text-neutral-700\"} ) ]\n",
    "\n",
    "''' \n",
    "Sama saja dengan :\n",
    "title = []\n",
    "title = title + [ title.get_text() for title in soup.find_all( 'h2', {\"class\":\"line-clamp-2 text-xs-medium text-neutral-700\"} ) ]\n",
    "'''"
   ]
  },
  {
   "cell_type": "code",
   "execution_count": 17,
   "metadata": {},
   "outputs": [
    {
     "data": {
      "text/plain": [
       "['Yaasiin, Tahlil, Perawatan Jenazah, Takziyah, & Ziarah Kubur',\n",
       " 'Kesalahan-Kesalahan yang Tak Disadari Muslimah',\n",
       " 'Menjadi Ummi Terbaik',\n",
       " '50 Doa Orang Muda Katolik',\n",
       " 'Ensiklopedia Sahabat & Shahabiyah Rasulullah Saw.',\n",
       " 'Kepemimpinan Super dan Visioner dalam Perspektif Islam',\n",
       " 'Kerajaan Nabi Daud dan Sulaiman',\n",
       " 'Muhammad saw. 11 Leadership Qualities that Changed the World',\n",
       " 'Menyembuhkan Hati',\n",
       " 'Aku Mencium Aroma Bapak & Ibu',\n",
       " 'Arsitektur Rumah Jawa : Mengungkap Filosofi Makna dan Simbologinya',\n",
       " 'Merancang Bangunan Sekolah',\n",
       " 'Membangun Peradaban Dunia',\n",
       " '24 Desain Rumah < 90 Juta',\n",
       " 'Filosofi Rumah Tradisional Jawa',\n",
       " 'Archinesia Student Design Competition 2022',\n",
       " 'Buku Ajar Interior: Azas Lingkungan Dalam',\n",
       " 'Seri Rumah Ide: Taman Air',\n",
       " 'Bandung Bahagia: Happy Bandung By Design',\n",
       " 'Kota Untuk Semua: Ide Penataan Kota Yang Komprehensif',\n",
       " 'Keterampilan Membatik untuk Anak',\n",
       " 'The Prabowo Mind',\n",
       " 'Di Balik Seragam : Kehidupan dan Dedikasi Komjen. Pol. Drs. Agus Andrianto, S.H., M.H.',\n",
       " 'Sri Mulyani The Authorized Biography - No Limits: Reformasi dengan Hati',\n",
       " 'Percikan Inspirasi Porat Antonius',\n",
       " 'Menjadi Garam Dunia',\n",
       " 'Jokowi Bersama Sang Surya: Refleksi 10 Tahun Kepemimpinan Presiden Jokowi',\n",
       " 'Orang-Orang yang Saya Kenang',\n",
       " 'Manajemen yang Memanusiakan Manusia',\n",
       " 'Jagat Batin Sunan Bonang',\n",
       " 'Cah Ndeso Menjadi CEO: Membawa UMKM Naik Kelas hingga IPO',\n",
       " 'Kemudahan Berusaha (Ease of Doing Business) Dalam Perspektif Islam: Prinsip, Implementasi, dan Prospek',\n",
       " 'Mindfulness-Based Business (English Edition)',\n",
       " 'Menapak Jejak Dukungan Pemerintah dalam Pembiayaan Infrastruktur',\n",
       " 'Panduan Lengkap Akuntansi untuk UMKM',\n",
       " 'Pengantar Manajemen SDM : Teori, Proses, dan Praktik',\n",
       " 'Tips & Trik Jadi Freelancer Sukses dan Kaya',\n",
       " 'Panduan Investasi Crypto dari Nol untuk Pemula',\n",
       " 'Akuntansi Perpajakan : Teori dan Implementasinya',\n",
       " 'Ide Kerja dari Rumah : Strategi Personal Branding',\n",
       " 'Praksis Pancasila Pengamalan Ideologi di Perusahaan Gobel']"
      ]
     },
     "execution_count": 17,
     "metadata": {},
     "output_type": "execute_result"
    }
   ],
   "source": [
    "title"
   ]
  },
  {
   "cell_type": "code",
   "execution_count": 18,
   "metadata": {},
   "outputs": [],
   "source": [
    "author = []\n",
    "author += [ author.get_text() for author in soup.find_all( 'div', {\"class\":\"truncate text-2xs-medium text-neutral-500\"} )]"
   ]
  },
  {
   "cell_type": "code",
   "execution_count": 19,
   "metadata": {},
   "outputs": [
    {
     "data": {
      "text/plain": [
       "['Bilif Abduh',\n",
       " 'Lukman al Hakim dan Hafidh Nur Fauzi',\n",
       " 'Jorgi Sonda dan @Suka_Sembahyang',\n",
       " 'Hafidh Nur Fauzi',\n",
       " 'Prof. Dr. Drs. VeithzalRivai Zainal, B. Sc., M.M. MBA., CRGP., CRMP., CCWA., CP. NLP., CH., CHt. dkk',\n",
       " 'Prof. Dr. Ali Muhammad Ash-Shallabi',\n",
       " 'Nabeel Al-Azami',\n",
       " 'Josse  Tama SCJ',\n",
       " 'Asti Musman',\n",
       " 'Ir. Taufik Priambodo',\n",
       " 'UNTUNG WIDYANTO, DKK.',\n",
       " 'Dmaximus Arc',\n",
       " 'Asti Musman',\n",
       " 'DYAN AGUSTIN; NINIEK ANGGRIANI',\n",
       " 'Imelda Akmal',\n",
       " 'Parmonangan Manurung',\n",
       " 'Frans Meroga Panggabean, Bayu Endro Winarko',\n",
       " 'Agus Sukoco',\n",
       " 'Kementerian Keuangan RI',\n",
       " 'Christiana Andikasari dan Cynthia Toha',\n",
       " 'Esthi Susanti Hudiono',\n",
       " 'Erik Tauvani Somae. S.HI., M.H dkk',\n",
       " 'Abdul Hadi Hamka',\n",
       " 'Abie Besman dkk',\n",
       " 'Rizem Aizid',\n",
       " 'Rochmad Widodo',\n",
       " 'Dr. Fajar Hernawan, S.H.I., M.E.I.',\n",
       " 'Sudhamek AWS',\n",
       " 'Tim Penulis',\n",
       " 'Astuti, S.Sy.',\n",
       " \"Nur'aini D.F.\",\n",
       " 'A. Yogaswara',\n",
       " 'Ananta Susilo',\n",
       " 'Annisa Mia Susana',\n",
       " 'Zata Ligouw',\n",
       " 'Nasihin Masha']"
      ]
     },
     "execution_count": 19,
     "metadata": {},
     "output_type": "execute_result"
    }
   ],
   "source": [
    "author"
   ]
  },
  {
   "cell_type": "code",
   "execution_count": 20,
   "metadata": {},
   "outputs": [],
   "source": [
    "price = []\n",
    "price += [ price.get_text() for price in soup.find_all( 'div', {\"class\":\"text-s-extrabold text-neutral-700\"} ) ]"
   ]
  },
  {
   "cell_type": "code",
   "execution_count": 21,
   "metadata": {},
   "outputs": [
    {
     "data": {
      "text/plain": [
       "['Rp28.000',\n",
       " 'Rp54.000',\n",
       " 'Rp74.000',\n",
       " 'Rp65.000',\n",
       " 'Rp66.000',\n",
       " 'Rp318.000',\n",
       " 'Rp190.000',\n",
       " 'Rp119.000',\n",
       " 'Rp45.500',\n",
       " 'Rp69.000',\n",
       " 'Rp55.500',\n",
       " 'Rp60.000',\n",
       " 'Rp99.000',\n",
       " 'Rp124.000',\n",
       " 'Rp74.500',\n",
       " 'Rp285.000',\n",
       " 'Rp130.000',\n",
       " 'Rp29.500',\n",
       " 'Rp285.000',\n",
       " 'Rp97.500',\n",
       " 'Rp30.000',\n",
       " 'Rp98.000',\n",
       " 'Rp159.000',\n",
       " 'Rp195.000',\n",
       " 'Rp119.000',\n",
       " 'Rp125.000',\n",
       " 'Rp129.000',\n",
       " 'Rp99.000',\n",
       " 'Rp198.000',\n",
       " 'Rp58.000',\n",
       " 'Rp150.000',\n",
       " 'Rp95.000',\n",
       " 'Rp259.000',\n",
       " 'Rp219.000',\n",
       " 'Rp41.500',\n",
       " 'Rp54.500',\n",
       " 'Rp62.000',\n",
       " 'Rp99.000',\n",
       " 'Rp39.500',\n",
       " 'Rp135.000',\n",
       " 'Rp89.000']"
      ]
     },
     "execution_count": 21,
     "metadata": {},
     "output_type": "execute_result"
    }
   ],
   "source": [
    "price"
   ]
  },
  {
   "cell_type": "code",
   "execution_count": 22,
   "metadata": {},
   "outputs": [],
   "source": [
    "image = []\n",
    "image += [ img['src'] for img in soup.find_all( 'img', {\"class\":\"object-contain\"} ) ]"
   ]
  },
  {
   "cell_type": "code",
   "execution_count": 23,
   "metadata": {},
   "outputs": [
    {
     "data": {
      "text/plain": [
       "['https://image.gramedia.net/rs:fit:256:0/plain/https://cdn.gramedia.com/uploads/items/YAASIIN_TAHLIL_PERAWATAN_JENAZAH_TAKZIYAH__ZIARAH_KUBUR.jpg',\n",
       " 'https://image.gramedia.net/rs:fit:256:0/plain/https://cdn.gramedia.com/uploads/products/2ean6lle-h.jpg',\n",
       " 'https://image.gramedia.net/rs:fit:256:0/plain/https://cdn.gramedia.com/uploads/products/66jj-8izm2.jpg',\n",
       " 'https://image.gramedia.net/rs:fit:256:0/plain/https://cdn.gramedia.com/uploads/products/o84o7d7xav.png',\n",
       " 'https://image.gramedia.net/rs:fit:256:0/plain/https://cdn.gramedia.com/uploads/products/as-rkv9vtv.jpg',\n",
       " 'https://image.gramedia.net/rs:fit:256:0/plain/https://cdn.gramedia.com/uploads/products/-r0eeudpfp.jpg',\n",
       " 'https://image.gramedia.net/rs:fit:256:0/plain/https://cdn.gramedia.com/uploads/products/acad4kmr6i.jpg',\n",
       " 'https://image.gramedia.net/rs:fit:256:0/plain/https://cdn.gramedia.com/uploads/products/dtsacalaas.jpg',\n",
       " 'https://image.gramedia.net/rs:fit:256:0/plain/https://cdn.gramedia.com/uploads/products/8iyn1t3ymy.jpg',\n",
       " 'https://image.gramedia.net/rs:fit:256:0/plain/https://cdn.gramedia.com/uploads/products/3u6ai1uiob.jpeg',\n",
       " 'https://image.gramedia.net/rs:fit:256:0/plain/https://cdn.gramedia.com/uploads/picture_meta/2024/6/18/38c3hkutp73iuonbm3sr5a.jpg',\n",
       " 'https://image.gramedia.net/rs:fit:256:0/plain/https://cdn.gramedia.com/uploads/picture_meta/2024/6/19/59wpeqhp3zizsjfu8o5k9k.jpg',\n",
       " 'https://image.gramedia.net/rs:fit:256:0/plain/https://cdn.gramedia.com/uploads/picture_meta/2023/7/5/8iufkpweb6dpwitdvfn9at.jpg',\n",
       " 'https://image.gramedia.net/rs:fit:256:0/plain/https://cdn.gramedia.com/uploads/picture_meta/2023/3/3/hden9ojf3hr6pkgjw7m45x.jpg',\n",
       " 'https://image.gramedia.net/rs:fit:256:0/plain/https://cdn.gramedia.com/uploads/picture_meta/2022/12/6/cmvlyl4wkvvuhwy94rapqd.png',\n",
       " 'https://image.gramedia.net/rs:fit:256:0/plain/https://cdn.gramedia.com/uploads/items/Archinesia_Student_Design_Competition_2022.jpg',\n",
       " 'https://image.gramedia.net/rs:fit:256:0/plain/https://cdn.gramedia.com/uploads/items/img20210609_13535574.jpg',\n",
       " 'https://image.gramedia.net/rs:fit:256:0/plain/https://cdn.gramedia.com/uploads/images/1/1440/big_covers/ID_GPU2013MTH01TA_B_.jpg',\n",
       " 'https://image.gramedia.net/rs:fit:256:0/plain/https://cdn.gramedia.com/uploads/items/9786029260526_bandung-bahagia-happy-bandung-by-design.jpg',\n",
       " 'https://image.gramedia.net/rs:fit:256:0/plain/https://cdn.gramedia.com/uploads/items/Kota_Untuk_Semua_Ide_Penataan_Kota_Yang_Komprehensif.jpg',\n",
       " 'https://image.gramedia.net/rs:fit:256:0/plain/https://cdn.gramedia.com/uploads/items/keterampilan-membatik-untuk-anak.jpg',\n",
       " 'https://image.gramedia.net/rs:fit:256:0/plain/https://cdn.gramedia.com/uploads/products/v1ce8xcwhh.jpg',\n",
       " 'https://image.gramedia.net/rs:fit:256:0/plain/https://cdn.gramedia.com/uploads/products/su-zi2i-oi.jpg',\n",
       " 'https://image.gramedia.net/rs:fit:256:0/plain/https://cdn.gramedia.com/uploads/products/tee9-rded2.png',\n",
       " 'https://image.gramedia.net/rs:fit:256:0/plain/https://cdn.gramedia.com/uploads/products/n48eaz-r80.jpg',\n",
       " 'https://image.gramedia.net/rs:fit:256:0/plain/https://cdn.gramedia.com/uploads/products/m7dxinddgm.jpeg',\n",
       " 'https://image.gramedia.net/rs:fit:256:0/plain/https://cdn.gramedia.com/uploads/products/rei11nrrzn.jpg',\n",
       " 'https://image.gramedia.net/rs:fit:256:0/plain/https://cdn.gramedia.com/uploads/products/065nvao2eg.jpg',\n",
       " 'https://image.gramedia.net/rs:fit:256:0/plain/https://cdn.gramedia.com/uploads/products/aunaman-0n.jpg',\n",
       " 'https://image.gramedia.net/rs:fit:256:0/plain/https://cdn.gramedia.com/uploads/products/n0b85v-n5a.jpeg',\n",
       " 'https://image.gramedia.net/rs:fit:256:0/plain/https://cdn.gramedia.com/uploads/products/5k-keakem5.jpg',\n",
       " 'https://image.gramedia.net/rs:fit:256:0/plain/https://cdn.gramedia.com/uploads/products/si2inarsue.jpg',\n",
       " 'https://image.gramedia.net/rs:fit:256:0/plain/https://cdn.gramedia.com/uploads/products/3-45l--euo.jpg',\n",
       " 'https://image.gramedia.net/rs:fit:256:0/plain/https://cdn.gramedia.com/uploads/products/anuaakell3.jpg',\n",
       " 'https://image.gramedia.net/rs:fit:256:0/plain/https://cdn.gramedia.com/uploads/products/ptuzc6vgnd.jpg',\n",
       " 'https://image.gramedia.net/rs:fit:256:0/plain/https://cdn.gramedia.com/uploads/products/2enrkzipmr.jpg',\n",
       " 'https://image.gramedia.net/rs:fit:256:0/plain/https://cdn.gramedia.com/uploads/products/e1ixavej3k.png',\n",
       " 'https://image.gramedia.net/rs:fit:256:0/plain/https://cdn.gramedia.com/uploads/products/ivat-p2kaa.png',\n",
       " 'https://image.gramedia.net/rs:fit:256:0/plain/https://cdn.gramedia.com/uploads/products/inl9zten-m.jpg',\n",
       " 'https://image.gramedia.net/rs:fit:256:0/plain/https://cdn.gramedia.com/uploads/products/eindrvrj64.jpg',\n",
       " 'https://image.gramedia.net/rs:fit:256:0/plain/https://cdn.gramedia.com/uploads/products/ahcaame5ll.jpg']"
      ]
     },
     "execution_count": 23,
     "metadata": {},
     "output_type": "execute_result"
    }
   ],
   "source": [
    "image"
   ]
  },
  {
   "cell_type": "code",
   "execution_count": 24,
   "metadata": {},
   "outputs": [],
   "source": [
    "# Biasanya di console web dikasih nama spesifik = href\n",
    "links = []\n",
    "link_tag = soup.find('a', {'data-sentry-element':'LinkComponenent'})"
   ]
  },
  {
   "cell_type": "code",
   "execution_count": 33,
   "metadata": {},
   "outputs": [
    {
     "data": {
      "text/plain": [
       "'ProductCard.tsx'"
      ]
     },
     "execution_count": 33,
     "metadata": {},
     "output_type": "execute_result"
    }
   ],
   "source": [
    "link_tag['data-sentry-source-file']"
   ]
  },
  {
   "cell_type": "code",
   "execution_count": 26,
   "metadata": {},
   "outputs": [],
   "source": [
    "links  = []\n",
    "links  += [ img['href'] for img in soup.find_all( 'a', {\"data-sentry-element\":\"LinkComponenent\"} ) ]"
   ]
  },
  {
   "cell_type": "code",
   "execution_count": 27,
   "metadata": {},
   "outputs": [
    {
     "data": {
      "text/plain": [
       "['https://gramedia.com/products/yaasiin-tahlil-perawatan-jenazah-takziyah-ziarah-kubur',\n",
       " 'https://gramedia.com/products/kesalahan-kesalahan-yang-tak-disadari-muslimah',\n",
       " 'https://gramedia.com/products/menjadi-ummi-terbaik',\n",
       " 'https://gramedia.com/products/50-doa-orang-muda-katolik',\n",
       " 'https://gramedia.com/products/ensiklopedia-sahabat-shahabiyah-rasulullah-saw',\n",
       " 'https://gramedia.com/products/kepemimpinan-super-dan-visioner-dalam-perspektif-islam',\n",
       " 'https://gramedia.com/products/kerajaan-nabi-daud-dan-sulaiman',\n",
       " 'https://gramedia.com/products/muhammad-saw-11-leadership-qualities-that-changed-the-world',\n",
       " 'https://gramedia.com/products/menyembuhkan-hati',\n",
       " 'https://gramedia.com/products/aku-mencium-aroma-bapak-ibu',\n",
       " 'https://gramedia.com/products/arsitektur-rumah-jawa-mengungkap-filosofi-makna-dan-simbologinya',\n",
       " 'https://gramedia.com/products/merancang-bangunan-sekolah',\n",
       " 'https://gramedia.com/products/membangun-peradaban-dunia',\n",
       " 'https://gramedia.com/products/24-desain-rumah-90-juta',\n",
       " 'https://gramedia.com/products/filosofi-rumah-tradisional-jawa',\n",
       " 'https://gramedia.com/products/archinesia-student-design-competition-2022',\n",
       " 'https://gramedia.com/products/buku-ajar-interior-azas-lingkungan-dalam',\n",
       " 'https://gramedia.com/products/seri-rumah-ide-taman-air',\n",
       " 'https://gramedia.com/products/bandung-bahagia-happy-bandung-by-design',\n",
       " 'https://gramedia.com/products/kota-untuk-semua-ide-penataan-kota-yang-komprehensif-1',\n",
       " 'https://gramedia.com/products/keterampilan-membatik-u-anak',\n",
       " 'https://gramedia.com/products/the-prabowo-mind',\n",
       " 'https://gramedia.com/products/di-balik-seragam-kehidupan-dan-dedikasi-komjen-pol-drs-agus-andrianto-s-h-m-h',\n",
       " 'https://gramedia.com/products/sri-mulyani-the-authorized-biography-no-limits-reformasi-dengan-hati',\n",
       " 'https://gramedia.com/products/percikan-inspirasi-porat-antonius',\n",
       " 'https://gramedia.com/products/menjadi-garam-dunia',\n",
       " 'https://gramedia.com/products/jokowi-bersama-sang-surya-refleksi-10-tahun-kepemimpinan-presiden-jokowi',\n",
       " 'https://gramedia.com/products/orang-orang-yang-saya-kenang',\n",
       " 'https://gramedia.com/products/manajemen-yang-memanusiakan-manusia',\n",
       " 'https://gramedia.com/products/jagat-batin-sunan-bonang',\n",
       " 'https://gramedia.com/products/cah-ndeso-menjadi-ceo-membawa-umkm-naik-kelas-hingga-ipo',\n",
       " 'https://gramedia.com/products/kemudahan-berusaha-ease-of-doing-business-dalam-perspektif-islam-prinsip-implementasi-dan-prospek',\n",
       " 'https://gramedia.com/products/mindfulness-based-business-english-edition',\n",
       " 'https://gramedia.com/products/menapak-jejak-dukungan-pemerintah-dalam-pembiayaan-infrastruktur',\n",
       " 'https://gramedia.com/products/panduan-lengkap-akuntansi-untuk-umkm',\n",
       " 'https://gramedia.com/products/pengantar-manajemen-sdm-teori-proses-dan-praktik',\n",
       " 'https://gramedia.com/products/tips-trik-jadi-freelancer-sukses-dan-kaya',\n",
       " 'https://gramedia.com/products/panduan-investasi-crypto-dari-nol-untuk-pemula',\n",
       " 'https://gramedia.com/products/akuntansi-perpajakan-teori-dan-implementasinya',\n",
       " 'https://gramedia.com/products/ide-kerja-dari-rumah-strategi-personal-branding',\n",
       " 'https://gramedia.com/products/praksis-pancasila-pengamalan-ideologi-di-perusahaan-gobel']"
      ]
     },
     "execution_count": 27,
     "metadata": {},
     "output_type": "execute_result"
    }
   ],
   "source": [
    "links"
   ]
  },
  {
   "cell_type": "markdown",
   "metadata": {},
   "source": [
    "# Menjadikan seluruh data menjadi data frame"
   ]
  },
  {
   "cell_type": "code",
   "execution_count": 28,
   "metadata": {},
   "outputs": [],
   "source": [
    "import pandas as pd\n",
    "data_list = list(zip(image, price, author, title, links))"
   ]
  },
  {
   "cell_type": "code",
   "execution_count": 30,
   "metadata": {},
   "outputs": [],
   "source": [
    "import pandas as pd\n",
    "data_list = list(zip(image, price, author, title,links))\n",
    "data = pd.DataFrame(data_list,columns=['image','price','author','title','url'])"
   ]
  },
  {
   "cell_type": "code",
   "execution_count": 31,
   "metadata": {},
   "outputs": [
    {
     "data": {
      "text/html": [
       "<div>\n",
       "<style scoped>\n",
       "    .dataframe tbody tr th:only-of-type {\n",
       "        vertical-align: middle;\n",
       "    }\n",
       "\n",
       "    .dataframe tbody tr th {\n",
       "        vertical-align: top;\n",
       "    }\n",
       "\n",
       "    .dataframe thead th {\n",
       "        text-align: right;\n",
       "    }\n",
       "</style>\n",
       "<table border=\"1\" class=\"dataframe\">\n",
       "  <thead>\n",
       "    <tr style=\"text-align: right;\">\n",
       "      <th></th>\n",
       "      <th>image</th>\n",
       "      <th>price</th>\n",
       "      <th>author</th>\n",
       "      <th>title</th>\n",
       "      <th>url</th>\n",
       "    </tr>\n",
       "  </thead>\n",
       "  <tbody>\n",
       "    <tr>\n",
       "      <th>0</th>\n",
       "      <td>https://image.gramedia.net/rs:fit:256:0/plain/...</td>\n",
       "      <td>Rp28.000</td>\n",
       "      <td>Bilif Abduh</td>\n",
       "      <td>Yaasiin, Tahlil, Perawatan Jenazah, Takziyah, ...</td>\n",
       "      <td>https://gramedia.com/products/yaasiin-tahlil-p...</td>\n",
       "    </tr>\n",
       "    <tr>\n",
       "      <th>1</th>\n",
       "      <td>https://image.gramedia.net/rs:fit:256:0/plain/...</td>\n",
       "      <td>Rp54.000</td>\n",
       "      <td>Lukman al Hakim dan Hafidh Nur Fauzi</td>\n",
       "      <td>Kesalahan-Kesalahan yang Tak Disadari Muslimah</td>\n",
       "      <td>https://gramedia.com/products/kesalahan-kesala...</td>\n",
       "    </tr>\n",
       "    <tr>\n",
       "      <th>2</th>\n",
       "      <td>https://image.gramedia.net/rs:fit:256:0/plain/...</td>\n",
       "      <td>Rp74.000</td>\n",
       "      <td>Jorgi Sonda dan @Suka_Sembahyang</td>\n",
       "      <td>Menjadi Ummi Terbaik</td>\n",
       "      <td>https://gramedia.com/products/menjadi-ummi-ter...</td>\n",
       "    </tr>\n",
       "    <tr>\n",
       "      <th>3</th>\n",
       "      <td>https://image.gramedia.net/rs:fit:256:0/plain/...</td>\n",
       "      <td>Rp65.000</td>\n",
       "      <td>Hafidh Nur Fauzi</td>\n",
       "      <td>50 Doa Orang Muda Katolik</td>\n",
       "      <td>https://gramedia.com/products/50-doa-orang-mud...</td>\n",
       "    </tr>\n",
       "    <tr>\n",
       "      <th>4</th>\n",
       "      <td>https://image.gramedia.net/rs:fit:256:0/plain/...</td>\n",
       "      <td>Rp66.000</td>\n",
       "      <td>Prof. Dr. Drs. VeithzalRivai Zainal, B. Sc., M...</td>\n",
       "      <td>Ensiklopedia Sahabat &amp; Shahabiyah Rasulullah Saw.</td>\n",
       "      <td>https://gramedia.com/products/ensiklopedia-sah...</td>\n",
       "    </tr>\n",
       "    <tr>\n",
       "      <th>5</th>\n",
       "      <td>https://image.gramedia.net/rs:fit:256:0/plain/...</td>\n",
       "      <td>Rp318.000</td>\n",
       "      <td>Prof. Dr. Ali Muhammad Ash-Shallabi</td>\n",
       "      <td>Kepemimpinan Super dan Visioner dalam Perspekt...</td>\n",
       "      <td>https://gramedia.com/products/kepemimpinan-sup...</td>\n",
       "    </tr>\n",
       "    <tr>\n",
       "      <th>6</th>\n",
       "      <td>https://image.gramedia.net/rs:fit:256:0/plain/...</td>\n",
       "      <td>Rp190.000</td>\n",
       "      <td>Nabeel Al-Azami</td>\n",
       "      <td>Kerajaan Nabi Daud dan Sulaiman</td>\n",
       "      <td>https://gramedia.com/products/kerajaan-nabi-da...</td>\n",
       "    </tr>\n",
       "    <tr>\n",
       "      <th>7</th>\n",
       "      <td>https://image.gramedia.net/rs:fit:256:0/plain/...</td>\n",
       "      <td>Rp119.000</td>\n",
       "      <td>Josse  Tama SCJ</td>\n",
       "      <td>Muhammad saw. 11 Leadership Qualities that Cha...</td>\n",
       "      <td>https://gramedia.com/products/muhammad-saw-11-...</td>\n",
       "    </tr>\n",
       "    <tr>\n",
       "      <th>8</th>\n",
       "      <td>https://image.gramedia.net/rs:fit:256:0/plain/...</td>\n",
       "      <td>Rp45.500</td>\n",
       "      <td>Asti Musman</td>\n",
       "      <td>Menyembuhkan Hati</td>\n",
       "      <td>https://gramedia.com/products/menyembuhkan-hati</td>\n",
       "    </tr>\n",
       "    <tr>\n",
       "      <th>9</th>\n",
       "      <td>https://image.gramedia.net/rs:fit:256:0/plain/...</td>\n",
       "      <td>Rp69.000</td>\n",
       "      <td>Ir. Taufik Priambodo</td>\n",
       "      <td>Aku Mencium Aroma Bapak &amp; Ibu</td>\n",
       "      <td>https://gramedia.com/products/aku-mencium-arom...</td>\n",
       "    </tr>\n",
       "    <tr>\n",
       "      <th>10</th>\n",
       "      <td>https://image.gramedia.net/rs:fit:256:0/plain/...</td>\n",
       "      <td>Rp55.500</td>\n",
       "      <td>UNTUNG WIDYANTO, DKK.</td>\n",
       "      <td>Arsitektur Rumah Jawa : Mengungkap Filosofi Ma...</td>\n",
       "      <td>https://gramedia.com/products/arsitektur-rumah...</td>\n",
       "    </tr>\n",
       "    <tr>\n",
       "      <th>11</th>\n",
       "      <td>https://image.gramedia.net/rs:fit:256:0/plain/...</td>\n",
       "      <td>Rp60.000</td>\n",
       "      <td>Dmaximus Arc</td>\n",
       "      <td>Merancang Bangunan Sekolah</td>\n",
       "      <td>https://gramedia.com/products/merancang-bangun...</td>\n",
       "    </tr>\n",
       "    <tr>\n",
       "      <th>12</th>\n",
       "      <td>https://image.gramedia.net/rs:fit:256:0/plain/...</td>\n",
       "      <td>Rp99.000</td>\n",
       "      <td>Asti Musman</td>\n",
       "      <td>Membangun Peradaban Dunia</td>\n",
       "      <td>https://gramedia.com/products/membangun-perada...</td>\n",
       "    </tr>\n",
       "    <tr>\n",
       "      <th>13</th>\n",
       "      <td>https://image.gramedia.net/rs:fit:256:0/plain/...</td>\n",
       "      <td>Rp124.000</td>\n",
       "      <td>DYAN AGUSTIN; NINIEK ANGGRIANI</td>\n",
       "      <td>24 Desain Rumah &lt; 90 Juta</td>\n",
       "      <td>https://gramedia.com/products/24-desain-rumah-...</td>\n",
       "    </tr>\n",
       "    <tr>\n",
       "      <th>14</th>\n",
       "      <td>https://image.gramedia.net/rs:fit:256:0/plain/...</td>\n",
       "      <td>Rp74.500</td>\n",
       "      <td>Imelda Akmal</td>\n",
       "      <td>Filosofi Rumah Tradisional Jawa</td>\n",
       "      <td>https://gramedia.com/products/filosofi-rumah-t...</td>\n",
       "    </tr>\n",
       "    <tr>\n",
       "      <th>15</th>\n",
       "      <td>https://image.gramedia.net/rs:fit:256:0/plain/...</td>\n",
       "      <td>Rp285.000</td>\n",
       "      <td>Parmonangan Manurung</td>\n",
       "      <td>Archinesia Student Design Competition 2022</td>\n",
       "      <td>https://gramedia.com/products/archinesia-stude...</td>\n",
       "    </tr>\n",
       "    <tr>\n",
       "      <th>16</th>\n",
       "      <td>https://image.gramedia.net/rs:fit:256:0/plain/...</td>\n",
       "      <td>Rp130.000</td>\n",
       "      <td>Frans Meroga Panggabean, Bayu Endro Winarko</td>\n",
       "      <td>Buku Ajar Interior: Azas Lingkungan Dalam</td>\n",
       "      <td>https://gramedia.com/products/buku-ajar-interi...</td>\n",
       "    </tr>\n",
       "    <tr>\n",
       "      <th>17</th>\n",
       "      <td>https://image.gramedia.net/rs:fit:256:0/plain/...</td>\n",
       "      <td>Rp29.500</td>\n",
       "      <td>Agus Sukoco</td>\n",
       "      <td>Seri Rumah Ide: Taman Air</td>\n",
       "      <td>https://gramedia.com/products/seri-rumah-ide-t...</td>\n",
       "    </tr>\n",
       "    <tr>\n",
       "      <th>18</th>\n",
       "      <td>https://image.gramedia.net/rs:fit:256:0/plain/...</td>\n",
       "      <td>Rp285.000</td>\n",
       "      <td>Kementerian Keuangan RI</td>\n",
       "      <td>Bandung Bahagia: Happy Bandung By Design</td>\n",
       "      <td>https://gramedia.com/products/bandung-bahagia-...</td>\n",
       "    </tr>\n",
       "    <tr>\n",
       "      <th>19</th>\n",
       "      <td>https://image.gramedia.net/rs:fit:256:0/plain/...</td>\n",
       "      <td>Rp97.500</td>\n",
       "      <td>Christiana Andikasari dan Cynthia Toha</td>\n",
       "      <td>Kota Untuk Semua: Ide Penataan Kota Yang Kompr...</td>\n",
       "      <td>https://gramedia.com/products/kota-untuk-semua...</td>\n",
       "    </tr>\n",
       "    <tr>\n",
       "      <th>20</th>\n",
       "      <td>https://image.gramedia.net/rs:fit:256:0/plain/...</td>\n",
       "      <td>Rp30.000</td>\n",
       "      <td>Esthi Susanti Hudiono</td>\n",
       "      <td>Keterampilan Membatik untuk Anak</td>\n",
       "      <td>https://gramedia.com/products/keterampilan-mem...</td>\n",
       "    </tr>\n",
       "    <tr>\n",
       "      <th>21</th>\n",
       "      <td>https://image.gramedia.net/rs:fit:256:0/plain/...</td>\n",
       "      <td>Rp98.000</td>\n",
       "      <td>Erik Tauvani Somae. S.HI., M.H dkk</td>\n",
       "      <td>The Prabowo Mind</td>\n",
       "      <td>https://gramedia.com/products/the-prabowo-mind</td>\n",
       "    </tr>\n",
       "    <tr>\n",
       "      <th>22</th>\n",
       "      <td>https://image.gramedia.net/rs:fit:256:0/plain/...</td>\n",
       "      <td>Rp159.000</td>\n",
       "      <td>Abdul Hadi Hamka</td>\n",
       "      <td>Di Balik Seragam : Kehidupan dan Dedikasi Komj...</td>\n",
       "      <td>https://gramedia.com/products/di-balik-seragam...</td>\n",
       "    </tr>\n",
       "    <tr>\n",
       "      <th>23</th>\n",
       "      <td>https://image.gramedia.net/rs:fit:256:0/plain/...</td>\n",
       "      <td>Rp195.000</td>\n",
       "      <td>Abie Besman dkk</td>\n",
       "      <td>Sri Mulyani The Authorized Biography - No Limi...</td>\n",
       "      <td>https://gramedia.com/products/sri-mulyani-the-...</td>\n",
       "    </tr>\n",
       "    <tr>\n",
       "      <th>24</th>\n",
       "      <td>https://image.gramedia.net/rs:fit:256:0/plain/...</td>\n",
       "      <td>Rp119.000</td>\n",
       "      <td>Rizem Aizid</td>\n",
       "      <td>Percikan Inspirasi Porat Antonius</td>\n",
       "      <td>https://gramedia.com/products/percikan-inspira...</td>\n",
       "    </tr>\n",
       "    <tr>\n",
       "      <th>25</th>\n",
       "      <td>https://image.gramedia.net/rs:fit:256:0/plain/...</td>\n",
       "      <td>Rp125.000</td>\n",
       "      <td>Rochmad Widodo</td>\n",
       "      <td>Menjadi Garam Dunia</td>\n",
       "      <td>https://gramedia.com/products/menjadi-garam-dunia</td>\n",
       "    </tr>\n",
       "    <tr>\n",
       "      <th>26</th>\n",
       "      <td>https://image.gramedia.net/rs:fit:256:0/plain/...</td>\n",
       "      <td>Rp129.000</td>\n",
       "      <td>Dr. Fajar Hernawan, S.H.I., M.E.I.</td>\n",
       "      <td>Jokowi Bersama Sang Surya: Refleksi 10 Tahun K...</td>\n",
       "      <td>https://gramedia.com/products/jokowi-bersama-s...</td>\n",
       "    </tr>\n",
       "    <tr>\n",
       "      <th>27</th>\n",
       "      <td>https://image.gramedia.net/rs:fit:256:0/plain/...</td>\n",
       "      <td>Rp99.000</td>\n",
       "      <td>Sudhamek AWS</td>\n",
       "      <td>Orang-Orang yang Saya Kenang</td>\n",
       "      <td>https://gramedia.com/products/orang-orang-yang...</td>\n",
       "    </tr>\n",
       "    <tr>\n",
       "      <th>28</th>\n",
       "      <td>https://image.gramedia.net/rs:fit:256:0/plain/...</td>\n",
       "      <td>Rp198.000</td>\n",
       "      <td>Tim Penulis</td>\n",
       "      <td>Manajemen yang Memanusiakan Manusia</td>\n",
       "      <td>https://gramedia.com/products/manajemen-yang-m...</td>\n",
       "    </tr>\n",
       "    <tr>\n",
       "      <th>29</th>\n",
       "      <td>https://image.gramedia.net/rs:fit:256:0/plain/...</td>\n",
       "      <td>Rp58.000</td>\n",
       "      <td>Astuti, S.Sy.</td>\n",
       "      <td>Jagat Batin Sunan Bonang</td>\n",
       "      <td>https://gramedia.com/products/jagat-batin-suna...</td>\n",
       "    </tr>\n",
       "    <tr>\n",
       "      <th>30</th>\n",
       "      <td>https://image.gramedia.net/rs:fit:256:0/plain/...</td>\n",
       "      <td>Rp150.000</td>\n",
       "      <td>Nur'aini D.F.</td>\n",
       "      <td>Cah Ndeso Menjadi CEO: Membawa UMKM Naik Kelas...</td>\n",
       "      <td>https://gramedia.com/products/cah-ndeso-menjad...</td>\n",
       "    </tr>\n",
       "    <tr>\n",
       "      <th>31</th>\n",
       "      <td>https://image.gramedia.net/rs:fit:256:0/plain/...</td>\n",
       "      <td>Rp95.000</td>\n",
       "      <td>A. Yogaswara</td>\n",
       "      <td>Kemudahan Berusaha (Ease of Doing Business) Da...</td>\n",
       "      <td>https://gramedia.com/products/kemudahan-berusa...</td>\n",
       "    </tr>\n",
       "    <tr>\n",
       "      <th>32</th>\n",
       "      <td>https://image.gramedia.net/rs:fit:256:0/plain/...</td>\n",
       "      <td>Rp259.000</td>\n",
       "      <td>Ananta Susilo</td>\n",
       "      <td>Mindfulness-Based Business (English Edition)</td>\n",
       "      <td>https://gramedia.com/products/mindfulness-base...</td>\n",
       "    </tr>\n",
       "    <tr>\n",
       "      <th>33</th>\n",
       "      <td>https://image.gramedia.net/rs:fit:256:0/plain/...</td>\n",
       "      <td>Rp219.000</td>\n",
       "      <td>Annisa Mia Susana</td>\n",
       "      <td>Menapak Jejak Dukungan Pemerintah dalam Pembia...</td>\n",
       "      <td>https://gramedia.com/products/menapak-jejak-du...</td>\n",
       "    </tr>\n",
       "    <tr>\n",
       "      <th>34</th>\n",
       "      <td>https://image.gramedia.net/rs:fit:256:0/plain/...</td>\n",
       "      <td>Rp41.500</td>\n",
       "      <td>Zata Ligouw</td>\n",
       "      <td>Panduan Lengkap Akuntansi untuk UMKM</td>\n",
       "      <td>https://gramedia.com/products/panduan-lengkap-...</td>\n",
       "    </tr>\n",
       "    <tr>\n",
       "      <th>35</th>\n",
       "      <td>https://image.gramedia.net/rs:fit:256:0/plain/...</td>\n",
       "      <td>Rp54.500</td>\n",
       "      <td>Nasihin Masha</td>\n",
       "      <td>Pengantar Manajemen SDM : Teori, Proses, dan P...</td>\n",
       "      <td>https://gramedia.com/products/pengantar-manaje...</td>\n",
       "    </tr>\n",
       "  </tbody>\n",
       "</table>\n",
       "</div>"
      ],
      "text/plain": [
       "                                                image      price  \\\n",
       "0   https://image.gramedia.net/rs:fit:256:0/plain/...   Rp28.000   \n",
       "1   https://image.gramedia.net/rs:fit:256:0/plain/...   Rp54.000   \n",
       "2   https://image.gramedia.net/rs:fit:256:0/plain/...   Rp74.000   \n",
       "3   https://image.gramedia.net/rs:fit:256:0/plain/...   Rp65.000   \n",
       "4   https://image.gramedia.net/rs:fit:256:0/plain/...   Rp66.000   \n",
       "5   https://image.gramedia.net/rs:fit:256:0/plain/...  Rp318.000   \n",
       "6   https://image.gramedia.net/rs:fit:256:0/plain/...  Rp190.000   \n",
       "7   https://image.gramedia.net/rs:fit:256:0/plain/...  Rp119.000   \n",
       "8   https://image.gramedia.net/rs:fit:256:0/plain/...   Rp45.500   \n",
       "9   https://image.gramedia.net/rs:fit:256:0/plain/...   Rp69.000   \n",
       "10  https://image.gramedia.net/rs:fit:256:0/plain/...   Rp55.500   \n",
       "11  https://image.gramedia.net/rs:fit:256:0/plain/...   Rp60.000   \n",
       "12  https://image.gramedia.net/rs:fit:256:0/plain/...   Rp99.000   \n",
       "13  https://image.gramedia.net/rs:fit:256:0/plain/...  Rp124.000   \n",
       "14  https://image.gramedia.net/rs:fit:256:0/plain/...   Rp74.500   \n",
       "15  https://image.gramedia.net/rs:fit:256:0/plain/...  Rp285.000   \n",
       "16  https://image.gramedia.net/rs:fit:256:0/plain/...  Rp130.000   \n",
       "17  https://image.gramedia.net/rs:fit:256:0/plain/...   Rp29.500   \n",
       "18  https://image.gramedia.net/rs:fit:256:0/plain/...  Rp285.000   \n",
       "19  https://image.gramedia.net/rs:fit:256:0/plain/...   Rp97.500   \n",
       "20  https://image.gramedia.net/rs:fit:256:0/plain/...   Rp30.000   \n",
       "21  https://image.gramedia.net/rs:fit:256:0/plain/...   Rp98.000   \n",
       "22  https://image.gramedia.net/rs:fit:256:0/plain/...  Rp159.000   \n",
       "23  https://image.gramedia.net/rs:fit:256:0/plain/...  Rp195.000   \n",
       "24  https://image.gramedia.net/rs:fit:256:0/plain/...  Rp119.000   \n",
       "25  https://image.gramedia.net/rs:fit:256:0/plain/...  Rp125.000   \n",
       "26  https://image.gramedia.net/rs:fit:256:0/plain/...  Rp129.000   \n",
       "27  https://image.gramedia.net/rs:fit:256:0/plain/...   Rp99.000   \n",
       "28  https://image.gramedia.net/rs:fit:256:0/plain/...  Rp198.000   \n",
       "29  https://image.gramedia.net/rs:fit:256:0/plain/...   Rp58.000   \n",
       "30  https://image.gramedia.net/rs:fit:256:0/plain/...  Rp150.000   \n",
       "31  https://image.gramedia.net/rs:fit:256:0/plain/...   Rp95.000   \n",
       "32  https://image.gramedia.net/rs:fit:256:0/plain/...  Rp259.000   \n",
       "33  https://image.gramedia.net/rs:fit:256:0/plain/...  Rp219.000   \n",
       "34  https://image.gramedia.net/rs:fit:256:0/plain/...   Rp41.500   \n",
       "35  https://image.gramedia.net/rs:fit:256:0/plain/...   Rp54.500   \n",
       "\n",
       "                                               author  \\\n",
       "0                                         Bilif Abduh   \n",
       "1                Lukman al Hakim dan Hafidh Nur Fauzi   \n",
       "2                    Jorgi Sonda dan @Suka_Sembahyang   \n",
       "3                                    Hafidh Nur Fauzi   \n",
       "4   Prof. Dr. Drs. VeithzalRivai Zainal, B. Sc., M...   \n",
       "5                 Prof. Dr. Ali Muhammad Ash-Shallabi   \n",
       "6                                     Nabeel Al-Azami   \n",
       "7                                     Josse  Tama SCJ   \n",
       "8                                         Asti Musman   \n",
       "9                                Ir. Taufik Priambodo   \n",
       "10                              UNTUNG WIDYANTO, DKK.   \n",
       "11                                       Dmaximus Arc   \n",
       "12                                        Asti Musman   \n",
       "13                     DYAN AGUSTIN; NINIEK ANGGRIANI   \n",
       "14                                       Imelda Akmal   \n",
       "15                               Parmonangan Manurung   \n",
       "16        Frans Meroga Panggabean, Bayu Endro Winarko   \n",
       "17                                        Agus Sukoco   \n",
       "18                            Kementerian Keuangan RI   \n",
       "19             Christiana Andikasari dan Cynthia Toha   \n",
       "20                              Esthi Susanti Hudiono   \n",
       "21                 Erik Tauvani Somae. S.HI., M.H dkk   \n",
       "22                                   Abdul Hadi Hamka   \n",
       "23                                    Abie Besman dkk   \n",
       "24                                        Rizem Aizid   \n",
       "25                                     Rochmad Widodo   \n",
       "26                 Dr. Fajar Hernawan, S.H.I., M.E.I.   \n",
       "27                                       Sudhamek AWS   \n",
       "28                                        Tim Penulis   \n",
       "29                                      Astuti, S.Sy.   \n",
       "30                                      Nur'aini D.F.   \n",
       "31                                       A. Yogaswara   \n",
       "32                                      Ananta Susilo   \n",
       "33                                  Annisa Mia Susana   \n",
       "34                                        Zata Ligouw   \n",
       "35                                      Nasihin Masha   \n",
       "\n",
       "                                                title  \\\n",
       "0   Yaasiin, Tahlil, Perawatan Jenazah, Takziyah, ...   \n",
       "1      Kesalahan-Kesalahan yang Tak Disadari Muslimah   \n",
       "2                                Menjadi Ummi Terbaik   \n",
       "3                           50 Doa Orang Muda Katolik   \n",
       "4   Ensiklopedia Sahabat & Shahabiyah Rasulullah Saw.   \n",
       "5   Kepemimpinan Super dan Visioner dalam Perspekt...   \n",
       "6                     Kerajaan Nabi Daud dan Sulaiman   \n",
       "7   Muhammad saw. 11 Leadership Qualities that Cha...   \n",
       "8                                   Menyembuhkan Hati   \n",
       "9                       Aku Mencium Aroma Bapak & Ibu   \n",
       "10  Arsitektur Rumah Jawa : Mengungkap Filosofi Ma...   \n",
       "11                         Merancang Bangunan Sekolah   \n",
       "12                          Membangun Peradaban Dunia   \n",
       "13                          24 Desain Rumah < 90 Juta   \n",
       "14                    Filosofi Rumah Tradisional Jawa   \n",
       "15         Archinesia Student Design Competition 2022   \n",
       "16          Buku Ajar Interior: Azas Lingkungan Dalam   \n",
       "17                          Seri Rumah Ide: Taman Air   \n",
       "18           Bandung Bahagia: Happy Bandung By Design   \n",
       "19  Kota Untuk Semua: Ide Penataan Kota Yang Kompr...   \n",
       "20                   Keterampilan Membatik untuk Anak   \n",
       "21                                   The Prabowo Mind   \n",
       "22  Di Balik Seragam : Kehidupan dan Dedikasi Komj...   \n",
       "23  Sri Mulyani The Authorized Biography - No Limi...   \n",
       "24                  Percikan Inspirasi Porat Antonius   \n",
       "25                                Menjadi Garam Dunia   \n",
       "26  Jokowi Bersama Sang Surya: Refleksi 10 Tahun K...   \n",
       "27                       Orang-Orang yang Saya Kenang   \n",
       "28                Manajemen yang Memanusiakan Manusia   \n",
       "29                           Jagat Batin Sunan Bonang   \n",
       "30  Cah Ndeso Menjadi CEO: Membawa UMKM Naik Kelas...   \n",
       "31  Kemudahan Berusaha (Ease of Doing Business) Da...   \n",
       "32       Mindfulness-Based Business (English Edition)   \n",
       "33  Menapak Jejak Dukungan Pemerintah dalam Pembia...   \n",
       "34               Panduan Lengkap Akuntansi untuk UMKM   \n",
       "35  Pengantar Manajemen SDM : Teori, Proses, dan P...   \n",
       "\n",
       "                                                  url  \n",
       "0   https://gramedia.com/products/yaasiin-tahlil-p...  \n",
       "1   https://gramedia.com/products/kesalahan-kesala...  \n",
       "2   https://gramedia.com/products/menjadi-ummi-ter...  \n",
       "3   https://gramedia.com/products/50-doa-orang-mud...  \n",
       "4   https://gramedia.com/products/ensiklopedia-sah...  \n",
       "5   https://gramedia.com/products/kepemimpinan-sup...  \n",
       "6   https://gramedia.com/products/kerajaan-nabi-da...  \n",
       "7   https://gramedia.com/products/muhammad-saw-11-...  \n",
       "8     https://gramedia.com/products/menyembuhkan-hati  \n",
       "9   https://gramedia.com/products/aku-mencium-arom...  \n",
       "10  https://gramedia.com/products/arsitektur-rumah...  \n",
       "11  https://gramedia.com/products/merancang-bangun...  \n",
       "12  https://gramedia.com/products/membangun-perada...  \n",
       "13  https://gramedia.com/products/24-desain-rumah-...  \n",
       "14  https://gramedia.com/products/filosofi-rumah-t...  \n",
       "15  https://gramedia.com/products/archinesia-stude...  \n",
       "16  https://gramedia.com/products/buku-ajar-interi...  \n",
       "17  https://gramedia.com/products/seri-rumah-ide-t...  \n",
       "18  https://gramedia.com/products/bandung-bahagia-...  \n",
       "19  https://gramedia.com/products/kota-untuk-semua...  \n",
       "20  https://gramedia.com/products/keterampilan-mem...  \n",
       "21     https://gramedia.com/products/the-prabowo-mind  \n",
       "22  https://gramedia.com/products/di-balik-seragam...  \n",
       "23  https://gramedia.com/products/sri-mulyani-the-...  \n",
       "24  https://gramedia.com/products/percikan-inspira...  \n",
       "25  https://gramedia.com/products/menjadi-garam-dunia  \n",
       "26  https://gramedia.com/products/jokowi-bersama-s...  \n",
       "27  https://gramedia.com/products/orang-orang-yang...  \n",
       "28  https://gramedia.com/products/manajemen-yang-m...  \n",
       "29  https://gramedia.com/products/jagat-batin-suna...  \n",
       "30  https://gramedia.com/products/cah-ndeso-menjad...  \n",
       "31  https://gramedia.com/products/kemudahan-berusa...  \n",
       "32  https://gramedia.com/products/mindfulness-base...  \n",
       "33  https://gramedia.com/products/menapak-jejak-du...  \n",
       "34  https://gramedia.com/products/panduan-lengkap-...  \n",
       "35  https://gramedia.com/products/pengantar-manaje...  "
      ]
     },
     "execution_count": 31,
     "metadata": {},
     "output_type": "execute_result"
    }
   ],
   "source": [
    "data"
   ]
  },
  {
   "cell_type": "code",
   "execution_count": null,
   "metadata": {},
   "outputs": [],
   "source": [
    "# Menjadikan data ke bentuk csv\n",
    "data.to_csv('data_gramed.csv', index=False)"
   ]
  },
  {
   "cell_type": "code",
   "execution_count": 34,
   "metadata": {},
   "outputs": [],
   "source": [
    "driver.quit()"
   ]
  },
  {
   "cell_type": "markdown",
   "metadata": {},
   "source": [
    "---------------------------------------------------------------------------------------------------------------------------------"
   ]
  },
  {
   "cell_type": "markdown",
   "metadata": {},
   "source": [
    "--------------------------------------------------------------------------------------------------------------------------------------"
   ]
  },
  {
   "cell_type": "code",
   "execution_count": 38,
   "metadata": {},
   "outputs": [],
   "source": [
    "\n",
    "import time\n",
    "driver = webdriver.Chrome()\n",
    "# Buka halaman web\n",
    "driver.get('https://www.tokopedia.com/p/mainan-hobi/figure/action-figure?source=homepage.6_image.0.4118')\n",
    "time.sleep(5)\n",
    "html = driver.page_source\n",
    "soup = BeautifulSoup(html, \"html.parser\")\n",
    "#driver.close()\n"
   ]
  },
  {
   "cell_type": "code",
   "execution_count": 41,
   "metadata": {},
   "outputs": [],
   "source": [
    "driver.close()"
   ]
  },
  {
   "cell_type": "code",
   "execution_count": 39,
   "metadata": {},
   "outputs": [
    {
     "data": {
      "text/plain": [
       "['Labubu Have A Seat V2 | Labubu V2 have a seat',\n",
       " 'Pop Mart Crybaby x Powerpuff Girls Series Figures Authentic',\n",
       " 'Two Face DC Multiverse By Mattel',\n",
       " 'POP MART LABUBU THE MONSTERS EXCITING MACARON (100% Authentic)',\n",
       " 'CABLE GUY FIGURE BLACK PANTHER LIMITIED ORIGINAL',\n",
       " 'Statue One Piece Sun Nika Luffy Gear 5 Wink Studio design LED',\n",
       " '52TOYS SHINCAN DYNAMIC LIFE SERIES ',\n",
       " 'LingJiHUn Action Robot Pacific Rim Gipsy Danger Dangerous Wanderer movable painted finished',\n",
       " 'Statue One Piece Roronoa Zoro Standing Santoryu Design Recast ',\n",
       " 'BLOKEES BULUKE KAMEN RIDER GALAXY WAVE 1 NEW FIGURE ORIGINAL']"
      ]
     },
     "execution_count": 39,
     "metadata": {},
     "output_type": "execute_result"
    }
   ],
   "source": [
    "# Hanya menampilkan 10 barang karena selenium belum di perintah untuk scrolling webnya\n",
    "barang = []\n",
    "barang += [ img.get_text() for img in soup.find_all( 'span', {\"class\":\"css-20kt3o\"} ) ]\n",
    "barang"
   ]
  },
  {
   "cell_type": "code",
   "execution_count": 40,
   "metadata": {},
   "outputs": [
    {
     "data": {
      "text/plain": [
       "10"
      ]
     },
     "execution_count": 40,
     "metadata": {},
     "output_type": "execute_result"
    }
   ],
   "source": [
    "len(barang)"
   ]
  },
  {
   "cell_type": "code",
   "execution_count": 42,
   "metadata": {},
   "outputs": [],
   "source": [
    "\n",
    "driver = webdriver.Chrome()\n",
    "# Buka halaman web\n",
    "driver.get('https://www.tokopedia.com/p/mainan-hobi/figure/action-figure?source=homepage.6_image.0.4118')\n",
    "\n",
    "# Tunggu beberapa detik untuk memastikan halaman termuat sepenuhnya\n",
    "#time.sleep(3)\n",
    "\n",
    "for i in range(24):\n",
    "    driver.execute_script(\"window.scrollBy(0, 250)\") #'0' untuk scroll ke-kanan dan '250' scroll sebanyak 250 pixel ke bawah\n",
    "    time.sleep(1)\n",
    "\n",
    "driver.execute_script(\"window.scrollBy(50,0)\")\n",
    "time.sleep(1)"
   ]
  },
  {
   "cell_type": "code",
   "execution_count": 43,
   "metadata": {},
   "outputs": [],
   "source": [
    "html = driver.page_source\n",
    "soup = BeautifulSoup(html, \"html.parser\")"
   ]
  },
  {
   "cell_type": "code",
   "execution_count": 44,
   "metadata": {},
   "outputs": [],
   "source": [
    "barang = []\n",
    "barang += [ img.get_text() for img in soup.find_all( 'span', {\"class\":\"css-20kt3o\"} ) ]"
   ]
  },
  {
   "cell_type": "code",
   "execution_count": 45,
   "metadata": {},
   "outputs": [
    {
     "data": {
      "text/plain": [
       "['Labubu Have A Seat V2 | Labubu V2 have a seat',\n",
       " 'Pop Mart Crybaby x Powerpuff Girls Series Figures Authentic',\n",
       " 'Two Face DC Multiverse By Mattel',\n",
       " 'POP MART LABUBU THE MONSTERS EXCITING MACARON (100% Authentic)',\n",
       " 'CABLE GUY FIGURE BLACK PANTHER LIMITIED ORIGINAL',\n",
       " 'Statue One Piece Sun Nika Luffy Gear 5 Wink Studio design LED',\n",
       " '52TOYS SHINCAN DYNAMIC LIFE SERIES ',\n",
       " 'LingJiHUn Action Robot Pacific Rim Gipsy Danger Dangerous Wanderer movable painted finished',\n",
       " 'Statue One Piece Roronoa Zoro Standing Santoryu Design Recast ',\n",
       " 'BLOKEES BULUKE KAMEN RIDER GALAXY WAVE 1 NEW FIGURE ORIGINAL',\n",
       " 'Dummy 13 Action Figure Bersayap Enam 3D Print Lucky 13 Articulated Action Figure Puzzle DIY Mainan',\n",
       " 'The monsters Machinen Krieger kow yokoyama Ma.K. labubu popmart figure',\n",
       " 'Sonny Angel Hipper (Un Selected) READY SIAP KIRIM',\n",
       " 'Moncolle MS-15 Charizard',\n",
       " 'Deck CSM Seri Kamen Rider Ryuki',\n",
       " 'Fondjoy Avengers Marvel Unlimited Saga 1/12 IRONMAN MK3 MK2 Iron Man Model Kit',\n",
       " 'ZDToys Deadpool Wolverine Movie ZD Toys Dead Pool Original Figure',\n",
       " 'Dummy 13 Model kit Action Figure Robot Stick Warrior 30 titik artikulasi',\n",
       " 'Minions Despicable Me4 ME 4 Mega Minions 4 Inch Action Figure 59277',\n",
       " 'Fondjoy 1/7 Hulkbuster Avengers Ironman Mark 44 Metalik Semi Model Kit H.45cm',\n",
       " 'Dummy 13 Action Figure Mainan Pergeseran Bentuk Multi Sendi 3D',\n",
       " 'DUMMY 13 TITAN 13 T13 JOINTED POSEABLE ACTION FIGURE LUCKY Custom Color 3D Print TITAN 13 T13 Mainan Toy Toys Hobi Hobby Hobbies Koleksi Collection Robot Mecha Mannequin Manekin Figur Artikulasi Articulated Viral Printing Cetak Boneka Doll Anak',\n",
       " 'POP MART Labubu The Monsters Exciting Macaron Original',\n",
       " 'Blokees / Buluke Kamen Rider Galaxy Version 1 (NO RANDOM/FIX)',\n",
       " '(1 PCS FIXED) BLOKEES ULTRAMAN GV11 GALAXY VERSION 11 OFC ORIGINAL HASBRO',\n",
       " 'LDCX Pokemon Ball Pokeball Toys Changing / Swap Face Emoticons Pokemon',\n",
       " 'MINISO x Sanrio Blind Box Cinnamoroll Kotak Buta Gambar Terbatas',\n",
       " 'Hidden Blade Dual Action Cosplay/Ezio Auditore Hidden Blade.',\n",
       " \"[BNS Series] Buyabuzayang Buya's Adeventure\",\n",
       " 'Blokees Transformers classic class model kit Optimus prime bubblebee original',\n",
       " 'Zd Toys Ultra Ultraman Regular Man Series Original with Weapon Figure',\n",
       " 'STUMBLE GUYS Collectible Figures 1 Pack Blister SG2010',\n",
       " 'Pajangan Pokemon Takara Tomy Moncolle Friends Original',\n",
       " 'Figure Marvel CT The Amazing Spiderman spider-man Andrew Garfield skala shf',\n",
       " 'Statue One Piece Nika Luffy G5 Moon Brain Hole Studio Design Led',\n",
       " 'Mainan Pedang StarWars LightSaber Anak Double Blade Saber 7 Warna',\n",
       " 'MAINAN ACTION FIGURE NAGA DRAGON',\n",
       " 'Labubu Have a Seat V2 Pop Mart (Original)',\n",
       " 'Hu Tao QiQi Keqing Xiao ZhongLi Genshin Impact Action Figure',\n",
       " 'Youtooz \"Marvel: Spiderman\" : Amazing Fantasy Spiderman #15',\n",
       " 'Pack Ride Chemy Trading Card Phase 00 / 01 Kamen Rider Gotchard Bandai',\n",
       " 'Pokemon Face Off Figure Mainan Pokeball Swap Face Changing Surprise',\n",
       " 'Figure Crayon Shinchan - Shinosuke Nohara Cute Pajama\\nStand Holder HP/Handphone/Tablet',\n",
       " 'Pulpen Pedang Anime Demon Slayer Kimetsu No Yaiba Pena SwordpenRengoku',\n",
       " 'Acrilic Wall Mounted Display Box With 2 Clapboard',\n",
       " 'Bitzee Interactive Toy Digital Electronic Pet Hologram not Tamagochi',\n",
       " 'JOYTOY 1/18 Army Builder Promotion Pack Figure 08 09 10 11 12 13 14 15',\n",
       " 'aneka mainan miniatur hewan wild farm animal sapi banteng kerbau',\n",
       " 'SUPERMALL Action Figure - Figure Set Pokemon Pikachu Chamender Mainan',\n",
       " 'Statue Digimon Angemon & Angewomon with LED',\n",
       " 'Statue Dragon Ball Goku Spirit Bomb Hunter Studio design recast LED',\n",
       " 'Moetch Bean - Hangyodon Imp',\n",
       " '(1 PCS FIXED) BLOKEES KAMEN RIDER GV01 GALAXY VERSION 01 OFC ORIGINAL HASBRO',\n",
       " 'TWH ACTION FIGURE IRON MAN MODEL KIT THE INFINITY SAGA DIY LISENCE LENGKAP DENGAN BOX AKRILIK KOLEKSI MODEL & HADIAH',\n",
       " 'Mainan Super Mario Kart Pull Luigi Bowser Koopa Donkey Kong Princess 6',\n",
       " 'Flocky Friends Chick',\n",
       " 'Statue Naruto Minato Namikaze Cloud Studio Medium Ver ',\n",
       " 'Mainan Figure ZD Toys Spiderman No Way Home Spider Man Black Gold Suit',\n",
       " 'Mainan Roket Tintin - Petualangan di Bulan',\n",
       " 'Fondjoy DC Comic Superman Batman Mera Aquaman BVS Synder Cut Figure',\n",
       " 'Action Figure Fondjoy Avengers Marvel Unlimited Saga 1/12 IRONMAN MK3 MK2 Model Kit',\n",
       " 'brick figure one piece garp. sengoku, admiral kizaru, kuzan, akainu.',\n",
       " 'One Piece Daily lifeFig ! Monkey D. Luffy - Gear 5 - vol.3',\n",
       " 'Bandai Banpresto Yu-Gi-Oh Duel Monsters - Blue Eyes White Dragon & Red Eyed Black Dragon',\n",
       " 'Action Figure Wolverine Deadpool Pajangan 30cm',\n",
       " 'STUMBLE GUYS GAME MAINAN ANAK ACTION FIGURE HIASAN PAJANGAN TOPPER',\n",
       " 'Pacific Rim Uprising Gipsy Avenger Action Figure Model',\n",
       " '[BNS Series] Duckyo Friends (Not) Serious Museum',\n",
       " 'aneka mainan pajangan model hewan laut ikan hiu shark megalodon',\n",
       " 'aneka mainan hewan laut ikan paus hiu orca sperm blue whale shark',\n",
       " 'Mokit Dummy 13 figure 30 titik artikulasi mainan rakit',\n",
       " 'Ichiban Kuji Hero Academia Nakama Prize A Izuku Midoriya Figure',\n",
       " 'Wooden Figure Toy Story / Wooden Doll / Wooden Decoration',\n",
       " 'Labubu Have a Seat V2 Original',\n",
       " 'Pop Mart Labubu Time to Chill Vinyl Plush Doll 100% Original',\n",
       " 'Zd Toys Ultra Ultraman Regular Man Series Original with Weapon Figure - Zero',\n",
       " 'Action Figure Karakter Spiderman Infinity 3',\n",
       " 'Deck CSM Seri Kamen Rider Ryuki - Ryuki Blank',\n",
       " 'Stand Base untuk Display Action Figure Figma / HG /RG / SHFiguarts - Clear 2 capit',\n",
       " 'fus3d AIO berisik  isi 2 1 wadah']"
      ]
     },
     "execution_count": 45,
     "metadata": {},
     "output_type": "execute_result"
    }
   ],
   "source": [
    "barang"
   ]
  },
  {
   "cell_type": "code",
   "execution_count": null,
   "metadata": {},
   "outputs": [],
   "source": [
    "len(barang)"
   ]
  },
  {
   "cell_type": "code",
   "execution_count": null,
   "metadata": {},
   "outputs": [],
   "source": [
    "# Kalau ingin berpindah halaman (hanya beda page=...)\n",
    "https://www.tokopedia.com/p/mainan-hobi/figure/action-figure?source=homepage.6_image.0.4118&page=2"
   ]
  },
  {
   "cell_type": "code",
   "execution_count": 46,
   "metadata": {},
   "outputs": [
    {
     "name": "stdout",
     "output_type": "stream",
     "text": [
      "https://www.tokopedia.com/p/mainan-hobi/figure/action-figure?source=homepage.6_image.0.4118&page=1\n",
      "https://www.tokopedia.com/p/mainan-hobi/figure/action-figure?source=homepage.6_image.0.4118&page=2\n",
      "https://www.tokopedia.com/p/mainan-hobi/figure/action-figure?source=homepage.6_image.0.4118&page=3\n",
      "https://www.tokopedia.com/p/mainan-hobi/figure/action-figure?source=homepage.6_image.0.4118&page=4\n"
     ]
    }
   ],
   "source": [
    "for i in range(1,5):\n",
    "    url = 'https://www.tokopedia.com/p/mainan-hobi/figure/action-figure?source=homepage.6_image.0.4118&page={}'.format(i)\n",
    "    print(url)"
   ]
  },
  {
   "cell_type": "code",
   "execution_count": 47,
   "metadata": {},
   "outputs": [],
   "source": [
    "barang = []\n",
    "driver = webdriver.Chrome()\n",
    "for i in range(1,3):\n",
    "    url = 'https://www.tokopedia.com/p/mainan-hobi/figure/action-figure?source=homepage.6_image.0.4118&page={}'.format(i)\n",
    "    # Buka halaman web\n",
    "    driver.get(url)\n",
    "\n",
    "    # Tunggu beberapa detik untuk memastikan halaman termuat sepenuhnya\n",
    "    #time.sleep(3)\n",
    "\n",
    "    for i in range(24):\n",
    "        driver.execute_script(\"window.scrollBy(0, 250)\")\n",
    "        time.sleep(1)\n",
    "\n",
    "    driver.execute_script(\"window.scrollBy(50,0)\")\n",
    "    time.sleep(1)\n",
    "\n",
    "    html = driver.page_source\n",
    "    soup = BeautifulSoup(html, \"html.parser\")\n",
    "\n",
    "    barang += [ img.get_text() for img in soup.find_all( 'span', {\"class\":\"css-20kt3o\"} ) ]"
   ]
  },
  {
   "cell_type": "code",
   "execution_count": 48,
   "metadata": {},
   "outputs": [
    {
     "data": {
      "text/plain": [
       "160"
      ]
     },
     "execution_count": 48,
     "metadata": {},
     "output_type": "execute_result"
    }
   ],
   "source": [
    "len(barang)"
   ]
  },
  {
   "cell_type": "code",
   "execution_count": 49,
   "metadata": {},
   "outputs": [
    {
     "data": {
      "text/plain": [
       "['once cangklong kayu kelor hitam / bajakah x328',\n",
       " 'Labubu Have A Seat V2 | Labubu V2 have a seat',\n",
       " 'Pop Mart Crybaby x Powerpuff Girls Series Figures Authentic',\n",
       " 'Two Face DC Multiverse By Mattel',\n",
       " 'POP MART LABUBU THE MONSTERS EXCITING MACARON (100% Authentic)',\n",
       " '52TOYS SHINCAN DYNAMIC LIFE SERIES ',\n",
       " 'LingJiHUn Action Robot Pacific Rim Gipsy Danger Dangerous Wanderer movable painted finished',\n",
       " 'Statue One Piece Roronoa Zoro Standing Santoryu Design Recast ',\n",
       " 'BLOKEES BULUKE KAMEN RIDER GALAXY WAVE 1 NEW FIGURE ORIGINAL',\n",
       " 'Dummy 13 Action Figure Bersayap Enam 3D Print Lucky 13 Articulated Action Figure Puzzle DIY Mainan',\n",
       " 'The monsters Machinen Krieger kow yokoyama Ma.K. labubu popmart figure',\n",
       " 'Sonny Angel Hipper (Un Selected) READY SIAP KIRIM',\n",
       " 'Moncolle MS-15 Charizard',\n",
       " 'Deck CSM Seri Kamen Rider Ryuki',\n",
       " 'Fondjoy Avengers Marvel Unlimited Saga 1/12 IRONMAN MK3 MK2 Iron Man Model Kit',\n",
       " 'ZDToys Deadpool Wolverine Movie ZD Toys Dead Pool Original Figure',\n",
       " 'Dummy 13 Model kit Action Figure Robot Stick Warrior 30 titik artikulasi',\n",
       " 'Minions Despicable Me4 ME 4 Mega Minions 4 Inch Action Figure 59277',\n",
       " 'Fondjoy 1/7 Hulkbuster Avengers Ironman Mark 44 Metalik Semi Model Kit H.45cm',\n",
       " 'Dummy 13 Action Figure Mainan Pergeseran Bentuk Multi Sendi 3D',\n",
       " 'DUMMY 13 TITAN 13 T13 JOINTED POSEABLE ACTION FIGURE LUCKY Custom Color 3D Print TITAN 13 T13 Mainan Toy Toys Hobi Hobby Hobbies Koleksi Collection Robot Mecha Mannequin Manekin Figur Artikulasi Articulated Viral Printing Cetak Boneka Doll Anak',\n",
       " 'POP MART Labubu The Monsters Exciting Macaron Original',\n",
       " 'Blokees / Buluke Kamen Rider Galaxy Version 1 (NO RANDOM/FIX)',\n",
       " '(1 PCS FIXED) BLOKEES ULTRAMAN GV11 GALAXY VERSION 11 OFC ORIGINAL HASBRO',\n",
       " 'LDCX Pokemon Ball Pokeball Toys Changing / Swap Face Emoticons Pokemon',\n",
       " 'MINISO x Sanrio Blind Box Cinnamoroll Kotak Buta Gambar Terbatas',\n",
       " 'Hidden Blade Dual Action Cosplay/Ezio Auditore Hidden Blade.',\n",
       " \"[BNS Series] Buyabuzayang Buya's Adeventure\",\n",
       " 'Blokees Transformers classic class model kit Optimus prime bubblebee original',\n",
       " 'Zd Toys Ultra Ultraman Regular Man Series Original with Weapon Figure',\n",
       " 'STUMBLE GUYS Collectible Figures 1 Pack Blister SG2010',\n",
       " 'Pajangan Pokemon Takara Tomy Moncolle Friends Original',\n",
       " 'Figure Marvel CT The Amazing Spiderman spider-man Andrew Garfield skala shf',\n",
       " 'Statue One Piece Nika Luffy G5 Moon Brain Hole Studio Design Led',\n",
       " 'Pack Ride Chemy Trading Card Phase 00 / 01 Kamen Rider Gotchard Bandai',\n",
       " 'CABLE GUY FIGURE BLACK PANTHER LIMITIED ORIGINAL',\n",
       " 'Mainan Pedang StarWars LightSaber Anak Double Blade Saber 7 Warna',\n",
       " 'Labubu Have a Seat V2 Pop Mart (Original)',\n",
       " 'MAINAN ACTION FIGURE NAGA DRAGON',\n",
       " 'Youtooz \"Marvel: Spiderman\" : Amazing Fantasy Spiderman #15',\n",
       " 'Pokemon Face Off Figure Mainan Pokeball Swap Face Changing Surprise',\n",
       " 'Figure Crayon Shinchan - Shinosuke Nohara Cute Pajama\\nStand Holder HP/Handphone/Tablet',\n",
       " 'Pulpen Pedang Anime Demon Slayer Kimetsu No Yaiba Pena SwordpenRengoku',\n",
       " 'Acrilic Wall Mounted Display Box With 2 Clapboard',\n",
       " 'Bitzee Interactive Toy Digital Electronic Pet Hologram not Tamagochi',\n",
       " 'JOYTOY 1/18 Army Builder Promotion Pack Figure 08 09 10 11 12 13 14 15',\n",
       " 'aneka mainan miniatur hewan wild farm animal sapi banteng kerbau',\n",
       " 'SUPERMALL Action Figure - Figure Set Pokemon Pikachu Chamender Mainan',\n",
       " 'Statue Digimon Angemon & Angewomon with LED',\n",
       " 'Statue Dragon Ball Goku Spirit Bomb Hunter Studio design recast LED',\n",
       " 'Moetch Bean - Hangyodon Imp',\n",
       " '(1 PCS FIXED) BLOKEES KAMEN RIDER GV01 GALAXY VERSION 01 OFC ORIGINAL HASBRO',\n",
       " 'TWH ACTION FIGURE IRON MAN MODEL KIT THE INFINITY SAGA DIY LISENCE LENGKAP DENGAN BOX AKRILIK KOLEKSI MODEL & HADIAH',\n",
       " 'Mainan Super Mario Kart Pull Luigi Bowser Koopa Donkey Kong Princess 6',\n",
       " 'Flocky Friends Chick',\n",
       " 'Statue Naruto Minato Namikaze Cloud Studio Medium Ver ',\n",
       " 'Mainan Figure ZD Toys Spiderman No Way Home Spider Man Black Gold Suit',\n",
       " 'Mainan Roket Tintin - Petualangan di Bulan',\n",
       " 'Fondjoy DC Comic Superman Batman Mera Aquaman BVS Synder Cut Figure',\n",
       " 'Action Figure Fondjoy Avengers Marvel Unlimited Saga 1/12 IRONMAN MK3 MK2 Model Kit',\n",
       " 'brick figure one piece garp. sengoku, admiral kizaru, kuzan, akainu.',\n",
       " 'One Piece Daily lifeFig ! Monkey D. Luffy - Gear 5 - vol.3',\n",
       " 'Bandai Banpresto Yu-Gi-Oh Duel Monsters - Blue Eyes White Dragon & Red Eyed Black Dragon',\n",
       " 'Action Figure Wolverine Deadpool Pajangan 30cm',\n",
       " 'STUMBLE GUYS GAME MAINAN ANAK ACTION FIGURE HIASAN PAJANGAN TOPPER',\n",
       " 'Pacific Rim Uprising Gipsy Avenger Action Figure Model',\n",
       " '[BNS Series] Duckyo Friends (Not) Serious Museum',\n",
       " 'aneka mainan pajangan model hewan laut ikan hiu shark megalodon',\n",
       " 'aneka mainan hewan laut ikan paus hiu orca sperm blue whale shark',\n",
       " 'Action Figure Pemain Sepak Bola Ronaldo Messi 18cm',\n",
       " 'Mokit Dummy 13 figure 30 titik artikulasi mainan rakit',\n",
       " 'Labubu Have a Seat V2 Secret DuoDuo Pop Mart  (Original)',\n",
       " 'Ichiban Kuji Hero Academia Nakama Prize A Izuku Midoriya Figure',\n",
       " 'Wooden Figure Toy Story / Wooden Doll / Wooden Decoration',\n",
       " 'Labubu Have a Seat V2 Original',\n",
       " '(1 PCS FIXED) BLOKEES ULTRAMAN GV11 GALAXY VERSION 11 OFC ORIGINAL HASBRO - ABSOLUTE TITAN',\n",
       " 'ZD Toys Avengers Ironman 2 War Machine Mark 1 Infinity - ZDToys Figure',\n",
       " 'Statue One Piece Sun Nika Luffy Gear 5 Wink Studio design LED',\n",
       " 'Figlife One Piece Figure - Luffy Gear 5 Vol 2',\n",
       " 'Hidden Blade Dual Action Cosplay/Ezio Auditore Hidden Blade. - Black Edition',\n",
       " 'Pop Mart Labubu Time to Chill Vinyl Plush Doll 100% Original',\n",
       " 'Genshin Impact Theme Series Quicksand Acrylic Block - Genshin Impact Official Merchandise',\n",
       " 'Pop Mart Labubu The Monsters Exciting Macaron 100% Authentic',\n",
       " 'OHSOME Mainan Hewan Kecil Binatang / Miniatur Hewan Figur / Animal Figure',\n",
       " 'Sanrio Characters Latte Baby Vinyl Plush Pendant Doll Blind Box Sanrio Family Top Toy Toptoy',\n",
       " 'Mainan Figur Goo Jit Zu Minis DC Minis Single Pack',\n",
       " 'Moetch Mini Box - Hangyodon Worry Free Life',\n",
       " 'Funism Panghu Alexander the Fat Tiger x Dragon Soaring and Pouncing Series Blind Box',\n",
       " 'Spiderman Web Shooters Cosplay Spider Man Launcher Penembak Jaring',\n",
       " 'Moetch Bean - KUROMI Home Life',\n",
       " 'Pop Mart Baby Molly When I was Three!',\n",
       " 'Upset Duck Work Upsets Me Rongcreator Open Box Figure Sealed',\n",
       " 'Pokeball Mainan Pokemon Murah Promo KFC',\n",
       " 'Bottleman BOT-01 Starter COLAMARU (Asia ver.)',\n",
       " 'One Piece Daily lifeFig ! Monkey D. Luffy - Gear 5 - vol.2',\n",
       " 'Cakar X-Men Mainan Anak Xmen Wolverine Carrot Claw',\n",
       " 'SHFiguart Body Kun / Chan - DX Set Mannequin Action Figure Model',\n",
       " 'Statue Marvel Venom Last Level Studio Design Recast',\n",
       " 'SHF BODY KUN BODY CHAN DX Set Orange Color Ver - SHFiguarts Mannequin',\n",
       " 'Pop mart Disney Princess Chinese Costume Popmart Mainan Action Figure ',\n",
       " 'Mainan Tongkat Sihir Wizarding World Mystery Wands',\n",
       " 'Senkou Zekkei Luffy Gear 5 & Rob Lucci Set',\n",
       " 'Mainan Anak Bola Pokemon Pokeball 5cm isi Karakter',\n",
       " 'Hasbro Transformers E1163 Autobot Optimus Prime Authentics',\n",
       " 'Pajangan Action Figure One Piece Luffy, Zoro, Sanji, Ace | Anime',\n",
       " 'Revoltech Amazing Yamaguchi Iron Spider Action Figure',\n",
       " 'Mokit Dummy 13 figure 30 titik artikulasi mainan rakit',\n",
       " 'Smiski Minifigure Series - 1pc',\n",
       " 'crazy bird superstar',\n",
       " 'Stumble Guys Collectible Figures Mainan Surprise Mini Figure ORIGINAL',\n",
       " 'DX Red Ranger Key Gorenger - Boukenger | Gokaiger, Megaforce',\n",
       " 'Pokemon Moncolle MS-55 Ceruledge (Box ver.)',\n",
       " 'ZD TOYS Iron Man Mark 24 Figure',\n",
       " 'King Of Artist Monkey D Luffy Gear 5 II',\n",
       " 'Mainan Ultraman Trigger Multi Shf Action Figure',\n",
       " 'Dam Toys 1/6 Leon and Claire Classic Ver',\n",
       " 'ACTION FIGURE ONE PIECE LUFFY ZORO SANJI ACE LAW NAMI TOPPER CAKE',\n",
       " 'Wooden Figurine SpongeBob / Wooden Doll / Wooden Decoration',\n",
       " 'Wooden Action Figure DC / Wooden Doll / Wooden Decoration',\n",
       " 'POP MART LABUBU THE MONSTER HAVE A SEAT (100% Authentic)',\n",
       " 'TAKARA TOMY, Bakugan Baku 003 Pegatrix Pegasus White',\n",
       " 'Figure Catnap Dogday Popy playtime Pajangan Koleksi',\n",
       " 'Figure My Neighbor TOTORO / SPIRITED AWAY Topper Cake Hiasan Mobil',\n",
       " 'ZD Toys Marvel IRON MAN Mark 1 Sampai Mark 7 Figure With Hall Of Armor',\n",
       " 'Zd Toys Ultra Ultraman Animated Man Series Original with Weapon Figure',\n",
       " 'Oddbods Action Figure',\n",
       " 'Pokemon Figure Decoration Piece Official Licensed',\n",
       " 'Sweet Dreams One Piece Figure with Lamp',\n",
       " '[READY] ORIGINAL POP MART Labubu The Monster Exciting Macaron Boneka Labubu Viral',\n",
       " 'TMNT MOVIE Teenage Mutant Ninja Turtles Mayhem Basic Figure 83269',\n",
       " 'Action Figure Skibidi Toilet Titan Camera Man Speakerman Upgraded',\n",
       " 'lunatic builders babyalien aio',\n",
       " 'Anya Spy X Family Action Figure / Mainan Spy x Family Anya Forger',\n",
       " 'Pokemon Moncolle MS-45 Psyduck (Box ver.)',\n",
       " \"Mighty Jaxx Freeny's Hidden Dissectibles : One Piece Warlords Edition\",\n",
       " 'Mainan Action Figure Brawl Stars Action Figure',\n",
       " 'CSM - Complete Selection Modification - Kamen Rider 555 Faiz - Faiz Driver Recast',\n",
       " 'Ultraman figure satuan - mainan ultraman - ultraman series - ultraman',\n",
       " 'Pokeball figure pokemon / Bola pokemon lempar / Mainan figure pokeball',\n",
       " 'SHFiguarts Mainan Spiderman Action Figure SHF OEM Best Quality',\n",
       " 'From TV animation ONE PIECE One Pi No Mi - 19th Sea Battle',\n",
       " 'ZD Toys Avengers Ironman 2 War Machine Mark 1 Infinity - ZDToys Figure',\n",
       " 'Pokemon Starry Dream Figure Sleepy Eevee Original Pokemon',\n",
       " 'Mainan Stumble Guys Mini Action Figure in Blind Cap (RANDOM)',\n",
       " 'Pop Mart Labubu The Monsters Fall In Wild Series Vinyl Plush Doll AUthentic',\n",
       " 'TAKARA TOMY, Bakugan Baku 004 Nillious Ultra Dragonoid',\n",
       " 'Jada Nano Metalfigs Disney Baymax White (DS12)',\n",
       " 'Master Tip Jassinry Black Clear | Not Kamui Black tip',\n",
       " 'Statue Pokemon Ocean Family EGG Studio Design LED ',\n",
       " 'ACTION FIGURE/MAINAN PACIFIC RIM JAEGER CHERNO ALPHA TERMURAH',\n",
       " 'Action Figure Anime One Piece Koleksi Mainan Pajangan Limited Edition',\n",
       " '1/7 Scale Figure Ichinose Asuna by Good Smile Game Playing Ver MISB',\n",
       " 'Action Figure Pokemon Casual Time Original Pajangan Meja Pikachu Kado Langbowang',\n",
       " 'Wooden Action Figure Star Wars / Wooden Doll / Wooden Decoration',\n",
       " 'Banpresto Jujutsu Kaisen King of Artist The Toji Fushiguro Figure Japver Original',\n",
       " 'Labubu Have A Seat V2 | Labubu V2 have a seat',\n",
       " 'Labubu Have a Seat V2 Pop Mart (Original)',\n",
       " 'POP MART LABUBU THE MONSTERS EXCITING MACARON (100% Authentic)',\n",
       " 'Action Figure Body Kun DX Alat Bantu Desain Model Gerakan Tubuh',\n",
       " 'Statue One Piece Roronoa Zoro Standing Santoryu Design Recast ']"
      ]
     },
     "execution_count": 49,
     "metadata": {},
     "output_type": "execute_result"
    }
   ],
   "source": [
    "barang"
   ]
  },
  {
   "cell_type": "code",
   "execution_count": null,
   "metadata": {},
   "outputs": [],
   "source": []
  },
  {
   "cell_type": "code",
   "execution_count": 86,
   "metadata": {},
   "outputs": [],
   "source": [
    "driver.close()"
   ]
  },
  {
   "cell_type": "code",
   "execution_count": null,
   "metadata": {},
   "outputs": [],
   "source": []
  }
 ],
 "metadata": {
  "kernelspec": {
   "display_name": "data_science",
   "language": "python",
   "name": "python3"
  },
  "language_info": {
   "codemirror_mode": {
    "name": "ipython",
    "version": 3
   },
   "file_extension": ".py",
   "mimetype": "text/x-python",
   "name": "python",
   "nbconvert_exporter": "python",
   "pygments_lexer": "ipython3",
   "version": "3.9.19"
  }
 },
 "nbformat": 4,
 "nbformat_minor": 2
}
