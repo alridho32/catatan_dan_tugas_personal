{
 "cells": [
  {
   "cell_type": "markdown",
   "metadata": {},
   "source": [
    "1. Buatlah fungsi untuk menghitung jumlah kalori terbakar berdasarkan jenis kegiatan dan durasi dalam menit, dengan ketentuan di bawah:\n",
    "\n",
    "No. | Kegiatan\t|  Kalori Terbakar per Menit |:\n",
    "\n",
    "1.  | Berlari\t  |           10               |\n",
    "\n",
    "2.  | Bersepeda\t|           8                |\n",
    "\n",
    "3.  | Berenang  |           12               |"
   ]
  },
  {
   "cell_type": "code",
   "execution_count": 54,
   "metadata": {},
   "outputs": [
    {
     "name": "stdout",
     "output_type": "stream",
     "text": [
      "170\n",
      "160\n",
      "720\n"
     ]
    }
   ],
   "source": [
    "def calories_burned(duration, exercise):\n",
    "    if exercise == 'berlari':\n",
    "        return duration * 10\n",
    "    elif exercise == 'bersepeda':\n",
    "        return duration * 8\n",
    "    elif exercise == 'berenang':\n",
    "        return duration * 12\n",
    "    else:\n",
    "        return 0  # Return 0 if exercise is not recognized\n",
    "\n",
    "print(calories_burned(duration=17, exercise='berlari'))\n",
    "print(calories_burned(duration=20, exercise='bersepeda'))\n",
    "print(calories_burned(duration=60, exercise='berenang'))"
   ]
  },
  {
   "cell_type": "markdown",
   "metadata": {},
   "source": [
    "2. Buat function untuk menghitung total kalori terbakar dari beberapa sesi latihan, manfaatkan fungsi yang telah dibuat sebelumnya di dalam function ini.\n",
    "\n",
    "Notes:\n",
    "\n",
    "* Dalam kasus ini diasumsikan setiap sesi latihan memiliki durasi yang sama (each_session_duration).\n",
    "\n",
    "* Function yang dibuat memiliki input argumen berupa: n-length jenis latihan yang dilakukan di setiap sesinya dan each_session_duration\n",
    "\n",
    "* Manfaatkan *args variable-length input untuk memasukkan jenis latihan.\n",
    "\n",
    "* Manfaatkan function yang telah dibuat sebelumnya untuk mengitung kalori terbakar di setiap sesi"
   ]
  },
  {
   "cell_type": "code",
   "execution_count": 55,
   "metadata": {},
   "outputs": [
    {
     "name": "stdout",
     "output_type": "stream",
     "text": [
      "180\n",
      "150\n"
     ]
    }
   ],
   "source": [
    "def total_session_burned_cal(*args, total_duration):\n",
    "    total_burned_cal = 0\n",
    "    for exercise in args:\n",
    "        # Switch the order of arguments to match calories_burned function definition\n",
    "        total_burned_cal += calories_burned(total_duration, exercise)  \n",
    "    return total_burned_cal\n",
    "    # raise NotImplementedError()\n",
    "print(total_session_burned_cal('berlari', 'bersepeda', total_duration=10))\n",
    "print(total_session_burned_cal('berenang', 'berlari', 'bersepeda', total_duration=5))"
   ]
  },
  {
   "cell_type": "markdown",
   "metadata": {},
   "source": [
    "3. Lakukan Unit Testing pada kedua function yang telah dibuat. \n",
    "\n",
    "Notes:\n",
    "\n",
    "* Pengujian Unit testing dapat dilakukan pada cell .ipynb dengan cara:\n",
    "\n",
    "* Cukup buat cell baru dan tulis code kerangka unit test di cell tersebut dan jalankan langsung di cell tanpa menggunakan if name()=='main'.\n",
    "\n",
    "* Sebagai pengganti idiom ini:\n",
    "\n",
    "`if __name__=='__main__'`:\n",
    "\n",
    " unittest.main()\n",
    "\n",
    " * dapat menggunakan:\n",
    "\n",
    " unittest.main(argv=[''], exit=False)"
   ]
  },
  {
   "cell_type": "code",
   "execution_count": 59,
   "metadata": {},
   "outputs": [
    {
     "name": "stderr",
     "output_type": "stream",
     "text": [
      "..\n",
      "----------------------------------------------------------------------\n",
      "Ran 2 tests in 0.001s\n",
      "\n",
      "OK\n"
     ]
    },
    {
     "data": {
      "text/plain": [
       "<unittest.main.TestProgram at 0x28b7f628520>"
      ]
     },
     "execution_count": 59,
     "metadata": {},
     "output_type": "execute_result"
    }
   ],
   "source": [
    "import unittest\n",
    "\n",
    "class TestCalorieFunctions(unittest.TestCase):\n",
    "    \n",
    "    def test_calories_burned(self):\n",
    "        self.assertEqual(calories_burned(duration=15, exercise='berlari'), 150)\n",
    "        self.assertEqual(calories_burned(duration=20, exercise='bersepeda'), 160)\n",
    "        self.assertEqual(calories_burned(duration=60, exercise='berenang'), 720)\n",
    "    def test_total_session_burned_cal(self):\n",
    "        self.assertEqual(total_session_burned_cal('berlari', 'bersepeda', total_duration=10), 180)\n",
    "        self.assertEqual(total_session_burned_cal('berenang', 'berlari', 'bersepeda', total_duration=5), 150)\n",
    "\n",
    "unittest.main(argv=[''], exit=False)"
   ]
  }
 ],
 "metadata": {
  "kernelspec": {
   "display_name": "data_science",
   "language": "python",
   "name": "python3"
  },
  "language_info": {
   "codemirror_mode": {
    "name": "ipython",
    "version": 3
   },
   "file_extension": ".py",
   "mimetype": "text/x-python",
   "name": "python",
   "nbconvert_exporter": "python",
   "pygments_lexer": "ipython3",
   "version": "3.9.19"
  }
 },
 "nbformat": 4,
 "nbformat_minor": 2
}
